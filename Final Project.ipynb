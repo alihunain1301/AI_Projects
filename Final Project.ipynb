{
 "cells": [
  {
   "cell_type": "code",
   "execution_count": 1,
   "id": "62db7319-32eb-4108-b394-1ed06084eabb",
   "metadata": {},
   "outputs": [],
   "source": [
    "import pandas as pd\n",
    "import numpy as np\n",
    "import matplotlib.pyplot as plt"
   ]
  },
  {
   "cell_type": "code",
   "execution_count": 21,
   "id": "62676fde-c435-4d78-ab16-c67a1651cc4b",
   "metadata": {},
   "outputs": [
    {
     "name": "stderr",
     "output_type": "stream",
     "text": [
      "[nltk_data] Downloading package punkt to\n",
      "[nltk_data]     C:\\Users\\microsoft\\AppData\\Roaming\\nltk_data...\n",
      "[nltk_data]   Package punkt is already up-to-date!\n",
      "[nltk_data] Downloading package stopwords to\n",
      "[nltk_data]     C:\\Users\\microsoft\\AppData\\Roaming\\nltk_data...\n",
      "[nltk_data]   Package stopwords is already up-to-date!\n",
      "[nltk_data] Downloading package wordnet to\n",
      "[nltk_data]     C:\\Users\\microsoft\\AppData\\Roaming\\nltk_data...\n",
      "[nltk_data]   Package wordnet is already up-to-date!\n",
      "[nltk_data] Downloading package punkt_tab to\n",
      "[nltk_data]     C:\\Users\\microsoft\\AppData\\Roaming\\nltk_data...\n",
      "[nltk_data]   Unzipping tokenizers\\punkt_tab.zip.\n"
     ]
    }
   ],
   "source": [
    "import string\n",
    "import re\n",
    "import nltk\n",
    "import nltk.corpus\n",
    "nltk.download(\"punkt\")\n",
    "nltk.download(\"stopwords\")\n",
    "nltk.download(\"wordnet\")\n",
    "nltk.download(\"punkt_tab\")\n",
    "from nltk.stem import WordNetLemmatizer\n",
    "from textblob import download_corpora\n"
   ]
  },
  {
   "cell_type": "code",
   "execution_count": 4,
   "id": "e0f4650e-a0fa-43bd-a575-413e926c193f",
   "metadata": {},
   "outputs": [],
   "source": [
    "# Text Polarity\n",
    "from textblob import TextBlob\n",
    "\n",
    "# Text Vectorizer\n",
    "from sklearn.feature_extraction.text import CountVectorizer\n",
    "\n",
    "# Word Cloud\n",
    "from wordcloud import WordCloud"
   ]
  },
  {
   "cell_type": "code",
   "execution_count": 5,
   "id": "ab85304f-aeb7-4ec2-8f80-58602c553a34",
   "metadata": {},
   "outputs": [],
   "source": [
    "# Label Encoding\n",
    "from sklearn.preprocessing import LabelEncoder\n",
    "\n",
    "# TF-IDF Vectorizer\n",
    "from sklearn.feature_extraction.text import TfidfVectorizer\n",
    "\n",
    "# Resampling\n",
    "from imblearn.over_sampling import SMOTE\n",
    "from collections import Counter\n",
    "\n",
    "# Splitting Dataset\n",
    "from sklearn.model_selection import train_test_split"
   ]
  },
  {
   "cell_type": "code",
   "execution_count": 6,
   "id": "6271c634-20e3-4cad-ad36-b0354873a3fb",
   "metadata": {},
   "outputs": [],
   "source": [
    "# Model Building\n",
    "from sklearn.svm import SVC\n",
    "from sklearn.tree import DecisionTreeClassifier\n",
    "from sklearn.linear_model import LogisticRegression\n",
    "from sklearn.ensemble import RandomForestClassifier\n",
    "from sklearn.naive_bayes import BernoulliNB\n",
    "from sklearn.neighbors import KNeighborsClassifier\n",
    "from sklearn.model_selection import cross_val_score\n",
    "\n",
    "# Hyperparameter Tuning\n",
    "from sklearn.model_selection import GridSearchCV\n",
    "\n",
    "# Model Metrics\n",
    "from sklearn.metrics import confusion_matrix, accuracy_score, classification_report"
   ]
  },
  {
   "cell_type": "code",
   "execution_count": 7,
   "id": "0f0c08a9-3f05-4cdc-a550-69eb0c046f1b",
   "metadata": {},
   "outputs": [],
   "source": [
    "dataset = pd.read_csv(\"Musical_instruments_reviews.csv\")"
   ]
  },
  {
   "cell_type": "code",
   "execution_count": 8,
   "id": "49a5a9a9-cc60-4303-8c48-fb8d6023ea25",
   "metadata": {},
   "outputs": [
    {
     "data": {
      "text/plain": [
       "(10261, 9)"
      ]
     },
     "execution_count": 8,
     "metadata": {},
     "output_type": "execute_result"
    }
   ],
   "source": [
    "dataset.shape"
   ]
  },
  {
   "cell_type": "code",
   "execution_count": 9,
   "id": "392ac90e-76d5-4245-a507-a566ab051851",
   "metadata": {},
   "outputs": [
    {
     "data": {
      "text/plain": [
       "reviewerID         0\n",
       "asin               0\n",
       "reviewerName      27\n",
       "helpful            0\n",
       "reviewText         7\n",
       "overall            0\n",
       "summary            0\n",
       "unixReviewTime     0\n",
       "reviewTime         0\n",
       "dtype: int64"
      ]
     },
     "execution_count": 9,
     "metadata": {},
     "output_type": "execute_result"
    }
   ],
   "source": [
    "dataset.isnull().sum()"
   ]
  },
  {
   "cell_type": "code",
   "execution_count": 10,
   "id": "9ddc296e-2016-4006-9299-1c91f650c02c",
   "metadata": {},
   "outputs": [
    {
     "name": "stderr",
     "output_type": "stream",
     "text": [
      "C:\\Users\\microsoft\\AppData\\Local\\Temp\\ipykernel_7792\\2670805535.py:1: FutureWarning: A value is trying to be set on a copy of a DataFrame or Series through chained assignment using an inplace method.\n",
      "The behavior will change in pandas 3.0. This inplace method will never work because the intermediate object on which we are setting values always behaves as a copy.\n",
      "\n",
      "For example, when doing 'df[col].method(value, inplace=True)', try using 'df.method({col: value}, inplace=True)' or df[col] = df[col].method(value) instead, to perform the operation inplace on the original object.\n",
      "\n",
      "\n",
      "  dataset.reviewText.fillna(value = \"\", inplace = True)\n"
     ]
    }
   ],
   "source": [
    "dataset.reviewText.fillna(value = \"\", inplace = True)"
   ]
  },
  {
   "cell_type": "code",
   "execution_count": 11,
   "id": "ec1b6e12-963e-405f-9b8a-211a7f3b8185",
   "metadata": {},
   "outputs": [],
   "source": [
    "dataset[\"reviews\"] = dataset[\"reviewText\"] + \" \" + dataset[\"summary\"]\n",
    "dataset.drop(columns = [\"reviewText\", \"summary\"], axis = 1, inplace = True)"
   ]
  },
  {
   "cell_type": "code",
   "execution_count": 12,
   "id": "6a446055-bc8e-47b7-9736-c06d893c19de",
   "metadata": {},
   "outputs": [
    {
     "data": {
      "text/html": [
       "<div>\n",
       "<style scoped>\n",
       "    .dataframe tbody tr th:only-of-type {\n",
       "        vertical-align: middle;\n",
       "    }\n",
       "\n",
       "    .dataframe tbody tr th {\n",
       "        vertical-align: top;\n",
       "    }\n",
       "\n",
       "    .dataframe thead th {\n",
       "        text-align: right;\n",
       "    }\n",
       "</style>\n",
       "<table border=\"1\" class=\"dataframe\">\n",
       "  <thead>\n",
       "    <tr style=\"text-align: right;\">\n",
       "      <th></th>\n",
       "      <th>reviewerID</th>\n",
       "      <th>asin</th>\n",
       "      <th>reviewerName</th>\n",
       "      <th>helpful</th>\n",
       "      <th>overall</th>\n",
       "      <th>unixReviewTime</th>\n",
       "      <th>reviewTime</th>\n",
       "      <th>reviews</th>\n",
       "    </tr>\n",
       "  </thead>\n",
       "  <tbody>\n",
       "    <tr>\n",
       "      <th>count</th>\n",
       "      <td>10261</td>\n",
       "      <td>10261</td>\n",
       "      <td>10234</td>\n",
       "      <td>10261</td>\n",
       "      <td>10261.000000</td>\n",
       "      <td>1.026100e+04</td>\n",
       "      <td>10261</td>\n",
       "      <td>10261</td>\n",
       "    </tr>\n",
       "    <tr>\n",
       "      <th>unique</th>\n",
       "      <td>1429</td>\n",
       "      <td>900</td>\n",
       "      <td>1397</td>\n",
       "      <td>269</td>\n",
       "      <td>NaN</td>\n",
       "      <td>NaN</td>\n",
       "      <td>1570</td>\n",
       "      <td>10261</td>\n",
       "    </tr>\n",
       "    <tr>\n",
       "      <th>top</th>\n",
       "      <td>ADH0O8UVJOT10</td>\n",
       "      <td>B003VWJ2K8</td>\n",
       "      <td>Amazon Customer</td>\n",
       "      <td>[0, 0]</td>\n",
       "      <td>NaN</td>\n",
       "      <td>NaN</td>\n",
       "      <td>01 22, 2013</td>\n",
       "      <td>Not much to write about here, but it does exac...</td>\n",
       "    </tr>\n",
       "    <tr>\n",
       "      <th>freq</th>\n",
       "      <td>42</td>\n",
       "      <td>163</td>\n",
       "      <td>66</td>\n",
       "      <td>6796</td>\n",
       "      <td>NaN</td>\n",
       "      <td>NaN</td>\n",
       "      <td>40</td>\n",
       "      <td>1</td>\n",
       "    </tr>\n",
       "    <tr>\n",
       "      <th>mean</th>\n",
       "      <td>NaN</td>\n",
       "      <td>NaN</td>\n",
       "      <td>NaN</td>\n",
       "      <td>NaN</td>\n",
       "      <td>4.488744</td>\n",
       "      <td>1.360606e+09</td>\n",
       "      <td>NaN</td>\n",
       "      <td>NaN</td>\n",
       "    </tr>\n",
       "    <tr>\n",
       "      <th>std</th>\n",
       "      <td>NaN</td>\n",
       "      <td>NaN</td>\n",
       "      <td>NaN</td>\n",
       "      <td>NaN</td>\n",
       "      <td>0.894642</td>\n",
       "      <td>3.779735e+07</td>\n",
       "      <td>NaN</td>\n",
       "      <td>NaN</td>\n",
       "    </tr>\n",
       "    <tr>\n",
       "      <th>min</th>\n",
       "      <td>NaN</td>\n",
       "      <td>NaN</td>\n",
       "      <td>NaN</td>\n",
       "      <td>NaN</td>\n",
       "      <td>1.000000</td>\n",
       "      <td>1.095466e+09</td>\n",
       "      <td>NaN</td>\n",
       "      <td>NaN</td>\n",
       "    </tr>\n",
       "    <tr>\n",
       "      <th>25%</th>\n",
       "      <td>NaN</td>\n",
       "      <td>NaN</td>\n",
       "      <td>NaN</td>\n",
       "      <td>NaN</td>\n",
       "      <td>4.000000</td>\n",
       "      <td>1.343434e+09</td>\n",
       "      <td>NaN</td>\n",
       "      <td>NaN</td>\n",
       "    </tr>\n",
       "    <tr>\n",
       "      <th>50%</th>\n",
       "      <td>NaN</td>\n",
       "      <td>NaN</td>\n",
       "      <td>NaN</td>\n",
       "      <td>NaN</td>\n",
       "      <td>5.000000</td>\n",
       "      <td>1.368490e+09</td>\n",
       "      <td>NaN</td>\n",
       "      <td>NaN</td>\n",
       "    </tr>\n",
       "    <tr>\n",
       "      <th>75%</th>\n",
       "      <td>NaN</td>\n",
       "      <td>NaN</td>\n",
       "      <td>NaN</td>\n",
       "      <td>NaN</td>\n",
       "      <td>5.000000</td>\n",
       "      <td>1.388966e+09</td>\n",
       "      <td>NaN</td>\n",
       "      <td>NaN</td>\n",
       "    </tr>\n",
       "    <tr>\n",
       "      <th>max</th>\n",
       "      <td>NaN</td>\n",
       "      <td>NaN</td>\n",
       "      <td>NaN</td>\n",
       "      <td>NaN</td>\n",
       "      <td>5.000000</td>\n",
       "      <td>1.405987e+09</td>\n",
       "      <td>NaN</td>\n",
       "      <td>NaN</td>\n",
       "    </tr>\n",
       "  </tbody>\n",
       "</table>\n",
       "</div>"
      ],
      "text/plain": [
       "           reviewerID        asin     reviewerName helpful       overall  \\\n",
       "count           10261       10261            10234   10261  10261.000000   \n",
       "unique           1429         900             1397     269           NaN   \n",
       "top     ADH0O8UVJOT10  B003VWJ2K8  Amazon Customer  [0, 0]           NaN   \n",
       "freq               42         163               66    6796           NaN   \n",
       "mean              NaN         NaN              NaN     NaN      4.488744   \n",
       "std               NaN         NaN              NaN     NaN      0.894642   \n",
       "min               NaN         NaN              NaN     NaN      1.000000   \n",
       "25%               NaN         NaN              NaN     NaN      4.000000   \n",
       "50%               NaN         NaN              NaN     NaN      5.000000   \n",
       "75%               NaN         NaN              NaN     NaN      5.000000   \n",
       "max               NaN         NaN              NaN     NaN      5.000000   \n",
       "\n",
       "        unixReviewTime   reviewTime  \\\n",
       "count     1.026100e+04        10261   \n",
       "unique             NaN         1570   \n",
       "top                NaN  01 22, 2013   \n",
       "freq               NaN           40   \n",
       "mean      1.360606e+09          NaN   \n",
       "std       3.779735e+07          NaN   \n",
       "min       1.095466e+09          NaN   \n",
       "25%       1.343434e+09          NaN   \n",
       "50%       1.368490e+09          NaN   \n",
       "75%       1.388966e+09          NaN   \n",
       "max       1.405987e+09          NaN   \n",
       "\n",
       "                                                  reviews  \n",
       "count                                               10261  \n",
       "unique                                              10261  \n",
       "top     Not much to write about here, but it does exac...  \n",
       "freq                                                    1  \n",
       "mean                                                  NaN  \n",
       "std                                                   NaN  \n",
       "min                                                   NaN  \n",
       "25%                                                   NaN  \n",
       "50%                                                   NaN  \n",
       "75%                                                   NaN  \n",
       "max                                                   NaN  "
      ]
     },
     "execution_count": 12,
     "metadata": {},
     "output_type": "execute_result"
    }
   ],
   "source": [
    "dataset.describe(include = \"all\")"
   ]
  },
  {
   "cell_type": "code",
   "execution_count": 13,
   "id": "aea4ccb5-0786-4eea-b57f-c6eca72f34a5",
   "metadata": {},
   "outputs": [
    {
     "data": {
      "image/png": "[encoded data removed]",
      "text/plain": [
       "<Figure size 800x800 with 1 Axes>"
      ]
     },
     "metadata": {},
     "output_type": "display_data"
    }
   ],
   "source": [
    "dataset.overall.value_counts().plot(kind = \"pie\", legend = False, autopct = \"%1.2f%%\", fontsize = 10, figsize=(8,8))\n",
    "plt.title(\"Percentages of Ratings Given from The Customers\", loc = \"center\")\n",
    "plt.show()"
   ]
  },
  {
   "cell_type": "code",
   "execution_count": 14,
   "id": "ce8b9eab-87f5-47dd-b16c-4c68b4acc1ae",
   "metadata": {},
   "outputs": [],
   "source": [
    "def Labelling(Rows):\n",
    "  if(Rows[\"overall\"] > 3.0):\n",
    "    Label = \"Positive\"\n",
    "  elif(Rows[\"overall\"] < 3.0):\n",
    "    Label = \"Negative\"\n",
    "  else:\n",
    "    Label = \"Neutral\"\n",
    "  return Label"
   ]
  },
  {
   "cell_type": "code",
   "execution_count": 15,
   "id": "7f38f5f3-2e78-4408-9dcf-322a6a1a9dc1",
   "metadata": {},
   "outputs": [],
   "source": [
    "dataset[\"sentiment\"] = dataset.apply(Labelling, axis = 1)"
   ]
  },
  {
   "cell_type": "code",
   "execution_count": 16,
   "id": "93264d4a-143a-43ad-a14f-3e10cc65df70",
   "metadata": {},
   "outputs": [
    {
     "data": {
      "image/png": "[encoded data removed]",
      "text/plain": [
       "<Figure size 640x480 with 1 Axes>"
      ]
     },
     "metadata": {},
     "output_type": "display_data"
    }
   ],
   "source": [
    "dataset[\"sentiment\"].value_counts().plot(kind = \"bar\", color = \"blue\")\n",
    "plt.title(\"Amount of Each Sentiments Based On Rating Given\", loc = \"center\", fontsize = 15, color = \"red\", pad = 25)\n",
    "plt.xlabel(\"Sentiments\", color = \"green\", fontsize = 10, labelpad = 15)\n",
    "plt.xticks(rotation = 0)\n",
    "plt.ylabel(\"Amount of Sentiments\", color = \"green\", fontsize = 10, labelpad = 15)\n",
    "plt.show()"
   ]
  },
  {
   "cell_type": "code",
   "execution_count": 17,
   "id": "7e576be8-9bb0-473f-9453-ed91be4fb29e",
   "metadata": {},
   "outputs": [
    {
     "name": "stderr",
     "output_type": "stream",
     "text": [
      "<>:13: SyntaxWarning: invalid escape sequence '\\S'\n",
      "<>:13: SyntaxWarning: invalid escape sequence '\\S'\n",
      "C:\\Users\\microsoft\\AppData\\Local\\Temp\\ipykernel_7792\\2395264711.py:13: SyntaxWarning: invalid escape sequence '\\S'\n",
      "  Text = re.sub('https?://\\S+|www\\.\\S+', '', Text)\n"
     ]
    }
   ],
   "source": [
    "def Text_Cleaning(Text):\n",
    "  # Lowercase the texts\n",
    "  Text = Text.lower()\n",
    "\n",
    "  # Cleaning punctuations in the text\n",
    "  punc = str.maketrans(string.punctuation, ' '*len(string.punctuation))\n",
    "  Text = Text.translate(punc)\n",
    "  # Removing numbers in the text\n",
    "  Text = re.sub(r'\\d+', '', Text)\n",
    "  # Remove possible links\n",
    "  Text = re.sub('https?://\\S+|www\\.\\S+', '', Text)\n",
    "  # Deleting newlines\n",
    "  Text = re.sub('\\n', '', Text)\n",
    "\n",
    "  return Text"
   ]
  },
  {
   "cell_type": "code",
   "execution_count": 18,
   "id": "fdf0eb6c-4ad9-4491-83fa-328d00adf1bc",
   "metadata": {},
   "outputs": [],
   "source": [
    "# Stopwords\n",
    "Stopwords = set(nltk.corpus.stopwords.words(\"english\")) - set([\"not\"])\n",
    "\n",
    "def Text_Processing(Text):\n",
    "  Processed_Text = list()\n",
    "  Lemmatizer = WordNetLemmatizer()\n",
    "\n",
    "  # Tokens of Words\n",
    "  Tokens = nltk.word_tokenize(Text)\n",
    "\n",
    "  # Removing Stopwords and Lemmatizing Words\n",
    "  # To reduce noises in our dataset, also to keep it simple and still \n",
    "  # powerful, we will only omit the word `not` from the list of stopwords\n",
    "\n",
    "  for word in Tokens:\n",
    "    if word not in Stopwords:\n",
    "      Processed_Text.append(Lemmatizer.lemmatize(word))\n",
    "\n",
    "  return(\" \".join(Processed_Text))"
   ]
  },
  {
   "cell_type": "code",
   "execution_count": 22,
   "id": "3c78b32b-1346-4c57-b2aa-5dab151f8565",
   "metadata": {},
   "outputs": [],
   "source": [
    "dataset[\"reviews\"] = dataset[\"reviews\"].apply(lambda Text: Text_Cleaning(Text))\n",
    "dataset[\"reviews\"] = dataset[\"reviews\"].apply(lambda Text: Text_Processing(Text))"
   ]
  },
  {
   "cell_type": "code",
   "execution_count": 23,
   "id": "f8616363-4172-4479-9d19-97d06496123b",
   "metadata": {},
   "outputs": [
    {
     "data": {
      "text/html": [
       "<div>\n",
       "<style scoped>\n",
       "    .dataframe tbody tr th:only-of-type {\n",
       "        vertical-align: middle;\n",
       "    }\n",
       "\n",
       "    .dataframe tbody tr th {\n",
       "        vertical-align: top;\n",
       "    }\n",
       "\n",
       "    .dataframe thead th {\n",
       "        text-align: right;\n",
       "    }\n",
       "</style>\n",
       "<table border=\"1\" class=\"dataframe\">\n",
       "  <thead>\n",
       "    <tr style=\"text-align: right;\">\n",
       "      <th></th>\n",
       "      <th>reviewerID</th>\n",
       "      <th>asin</th>\n",
       "      <th>reviewerName</th>\n",
       "      <th>helpful</th>\n",
       "      <th>overall</th>\n",
       "      <th>unixReviewTime</th>\n",
       "      <th>reviewTime</th>\n",
       "      <th>reviews</th>\n",
       "      <th>sentiment</th>\n",
       "    </tr>\n",
       "  </thead>\n",
       "  <tbody>\n",
       "    <tr>\n",
       "      <th>0</th>\n",
       "      <td>A2IBPI20UZIR0U</td>\n",
       "      <td>1384719342</td>\n",
       "      <td>cassandra tu \"Yeah, well, that's just like, u...</td>\n",
       "      <td>[0, 0]</td>\n",
       "      <td>5.0</td>\n",
       "      <td>1393545600</td>\n",
       "      <td>02 28, 2014</td>\n",
       "      <td>not much write exactly supposed filter pop sou...</td>\n",
       "      <td>Positive</td>\n",
       "    </tr>\n",
       "    <tr>\n",
       "      <th>1</th>\n",
       "      <td>A14VAT5EAX3D9S</td>\n",
       "      <td>1384719342</td>\n",
       "      <td>Jake</td>\n",
       "      <td>[13, 14]</td>\n",
       "      <td>5.0</td>\n",
       "      <td>1363392000</td>\n",
       "      <td>03 16, 2013</td>\n",
       "      <td>product exactly quite affordable not realized ...</td>\n",
       "      <td>Positive</td>\n",
       "    </tr>\n",
       "    <tr>\n",
       "      <th>2</th>\n",
       "      <td>A195EZSQDW3E21</td>\n",
       "      <td>1384719342</td>\n",
       "      <td>Rick Bennette \"Rick Bennette\"</td>\n",
       "      <td>[1, 1]</td>\n",
       "      <td>5.0</td>\n",
       "      <td>1377648000</td>\n",
       "      <td>08 28, 2013</td>\n",
       "      <td>primary job device block breath would otherwis...</td>\n",
       "      <td>Positive</td>\n",
       "    </tr>\n",
       "    <tr>\n",
       "      <th>3</th>\n",
       "      <td>A2C00NNG1ZQQG2</td>\n",
       "      <td>1384719342</td>\n",
       "      <td>RustyBill \"Sunday Rocker\"</td>\n",
       "      <td>[0, 0]</td>\n",
       "      <td>5.0</td>\n",
       "      <td>1392336000</td>\n",
       "      <td>02 14, 2014</td>\n",
       "      <td>nice windscreen protects mxl mic prevents pop ...</td>\n",
       "      <td>Positive</td>\n",
       "    </tr>\n",
       "    <tr>\n",
       "      <th>4</th>\n",
       "      <td>A94QU4C90B1AX</td>\n",
       "      <td>1384719342</td>\n",
       "      <td>SEAN MASLANKA</td>\n",
       "      <td>[0, 0]</td>\n",
       "      <td>5.0</td>\n",
       "      <td>1392940800</td>\n",
       "      <td>02 21, 2014</td>\n",
       "      <td>pop filter great look performs like studio fil...</td>\n",
       "      <td>Positive</td>\n",
       "    </tr>\n",
       "    <tr>\n",
       "      <th>5</th>\n",
       "      <td>A2A039TZMZHH9Y</td>\n",
       "      <td>B00004Y2UT</td>\n",
       "      <td>Bill Lewey \"blewey\"</td>\n",
       "      <td>[0, 0]</td>\n",
       "      <td>5.0</td>\n",
       "      <td>1356048000</td>\n",
       "      <td>12 21, 2012</td>\n",
       "      <td>good bought another one love heavy cord gold c...</td>\n",
       "      <td>Positive</td>\n",
       "    </tr>\n",
       "    <tr>\n",
       "      <th>6</th>\n",
       "      <td>A1UPZM995ZAH90</td>\n",
       "      <td>B00004Y2UT</td>\n",
       "      <td>Brian</td>\n",
       "      <td>[0, 0]</td>\n",
       "      <td>5.0</td>\n",
       "      <td>1390089600</td>\n",
       "      <td>01 19, 2014</td>\n",
       "      <td>used monster cable year good reason lifetime w...</td>\n",
       "      <td>Positive</td>\n",
       "    </tr>\n",
       "    <tr>\n",
       "      <th>7</th>\n",
       "      <td>AJNFQI3YR6XJ5</td>\n",
       "      <td>B00004Y2UT</td>\n",
       "      <td>Fender Guy \"Rick\"</td>\n",
       "      <td>[0, 0]</td>\n",
       "      <td>3.0</td>\n",
       "      <td>1353024000</td>\n",
       "      <td>11 16, 2012</td>\n",
       "      <td>use cable run output pedal chain input fender ...</td>\n",
       "      <td>Neutral</td>\n",
       "    </tr>\n",
       "    <tr>\n",
       "      <th>8</th>\n",
       "      <td>A3M1PLEYNDEYO8</td>\n",
       "      <td>B00004Y2UT</td>\n",
       "      <td>G. Thomas \"Tom\"</td>\n",
       "      <td>[0, 0]</td>\n",
       "      <td>5.0</td>\n",
       "      <td>1215302400</td>\n",
       "      <td>07 6, 2008</td>\n",
       "      <td>perfect epiphone sheraton ii monster cable wel...</td>\n",
       "      <td>Positive</td>\n",
       "    </tr>\n",
       "    <tr>\n",
       "      <th>9</th>\n",
       "      <td>AMNTZU1YQN1TH</td>\n",
       "      <td>B00004Y2UT</td>\n",
       "      <td>Kurt Robair</td>\n",
       "      <td>[0, 0]</td>\n",
       "      <td>5.0</td>\n",
       "      <td>1389139200</td>\n",
       "      <td>01 8, 2014</td>\n",
       "      <td>monster make best cable lifetime warranty does...</td>\n",
       "      <td>Positive</td>\n",
       "    </tr>\n",
       "  </tbody>\n",
       "</table>\n",
       "</div>"
      ],
      "text/plain": [
       "       reviewerID        asin  \\\n",
       "0  A2IBPI20UZIR0U  1384719342   \n",
       "1  A14VAT5EAX3D9S  1384719342   \n",
       "2  A195EZSQDW3E21  1384719342   \n",
       "3  A2C00NNG1ZQQG2  1384719342   \n",
       "4   A94QU4C90B1AX  1384719342   \n",
       "5  A2A039TZMZHH9Y  B00004Y2UT   \n",
       "6  A1UPZM995ZAH90  B00004Y2UT   \n",
       "7   AJNFQI3YR6XJ5  B00004Y2UT   \n",
       "8  A3M1PLEYNDEYO8  B00004Y2UT   \n",
       "9   AMNTZU1YQN1TH  B00004Y2UT   \n",
       "\n",
       "                                       reviewerName   helpful  overall  \\\n",
       "0  cassandra tu \"Yeah, well, that's just like, u...    [0, 0]      5.0   \n",
       "1                                              Jake  [13, 14]      5.0   \n",
       "2                     Rick Bennette \"Rick Bennette\"    [1, 1]      5.0   \n",
       "3                         RustyBill \"Sunday Rocker\"    [0, 0]      5.0   \n",
       "4                                     SEAN MASLANKA    [0, 0]      5.0   \n",
       "5                               Bill Lewey \"blewey\"    [0, 0]      5.0   \n",
       "6                                             Brian    [0, 0]      5.0   \n",
       "7                                 Fender Guy \"Rick\"    [0, 0]      3.0   \n",
       "8                                   G. Thomas \"Tom\"    [0, 0]      5.0   \n",
       "9                                       Kurt Robair    [0, 0]      5.0   \n",
       "\n",
       "   unixReviewTime   reviewTime  \\\n",
       "0      1393545600  02 28, 2014   \n",
       "1      1363392000  03 16, 2013   \n",
       "2      1377648000  08 28, 2013   \n",
       "3      1392336000  02 14, 2014   \n",
       "4      1392940800  02 21, 2014   \n",
       "5      1356048000  12 21, 2012   \n",
       "6      1390089600  01 19, 2014   \n",
       "7      1353024000  11 16, 2012   \n",
       "8      1215302400   07 6, 2008   \n",
       "9      1389139200   01 8, 2014   \n",
       "\n",
       "                                             reviews sentiment  \n",
       "0  not much write exactly supposed filter pop sou...  Positive  \n",
       "1  product exactly quite affordable not realized ...  Positive  \n",
       "2  primary job device block breath would otherwis...  Positive  \n",
       "3  nice windscreen protects mxl mic prevents pop ...  Positive  \n",
       "4  pop filter great look performs like studio fil...  Positive  \n",
       "5  good bought another one love heavy cord gold c...  Positive  \n",
       "6  used monster cable year good reason lifetime w...  Positive  \n",
       "7  use cable run output pedal chain input fender ...   Neutral  \n",
       "8  perfect epiphone sheraton ii monster cable wel...  Positive  \n",
       "9  monster make best cable lifetime warranty does...  Positive  "
      ]
     },
     "execution_count": 23,
     "metadata": {},
     "output_type": "execute_result"
    }
   ],
   "source": [
    "dataset.head(10)"
   ]
  },
  {
   "cell_type": "code",
   "execution_count": 24,
   "id": "6d86d47b-5f09-49c7-8df5-9dc9327165e3",
   "metadata": {},
   "outputs": [
    {
     "data": {
      "text/html": [
       "<div>\n",
       "<style scoped>\n",
       "    .dataframe tbody tr th:only-of-type {\n",
       "        vertical-align: middle;\n",
       "    }\n",
       "\n",
       "    .dataframe tbody tr th {\n",
       "        vertical-align: top;\n",
       "    }\n",
       "\n",
       "    .dataframe thead th {\n",
       "        text-align: right;\n",
       "    }\n",
       "</style>\n",
       "<table border=\"1\" class=\"dataframe\">\n",
       "  <thead>\n",
       "    <tr style=\"text-align: right;\">\n",
       "      <th></th>\n",
       "      <th>reviewerID</th>\n",
       "      <th>asin</th>\n",
       "      <th>reviewerName</th>\n",
       "      <th>helpful</th>\n",
       "      <th>overall</th>\n",
       "      <th>unixReviewTime</th>\n",
       "      <th>reviewTime</th>\n",
       "      <th>reviews</th>\n",
       "      <th>sentiment</th>\n",
       "    </tr>\n",
       "  </thead>\n",
       "  <tbody>\n",
       "    <tr>\n",
       "      <th>count</th>\n",
       "      <td>10261</td>\n",
       "      <td>10261</td>\n",
       "      <td>10234</td>\n",
       "      <td>10261</td>\n",
       "      <td>10261.000000</td>\n",
       "      <td>1.026100e+04</td>\n",
       "      <td>10261</td>\n",
       "      <td>10261</td>\n",
       "      <td>10261</td>\n",
       "    </tr>\n",
       "    <tr>\n",
       "      <th>unique</th>\n",
       "      <td>1429</td>\n",
       "      <td>900</td>\n",
       "      <td>1397</td>\n",
       "      <td>269</td>\n",
       "      <td>NaN</td>\n",
       "      <td>NaN</td>\n",
       "      <td>1570</td>\n",
       "      <td>10254</td>\n",
       "      <td>3</td>\n",
       "    </tr>\n",
       "    <tr>\n",
       "      <th>top</th>\n",
       "      <td>ADH0O8UVJOT10</td>\n",
       "      <td>B003VWJ2K8</td>\n",
       "      <td>Amazon Customer</td>\n",
       "      <td>[0, 0]</td>\n",
       "      <td>NaN</td>\n",
       "      <td>NaN</td>\n",
       "      <td>01 22, 2013</td>\n",
       "      <td>good string five star</td>\n",
       "      <td>Positive</td>\n",
       "    </tr>\n",
       "    <tr>\n",
       "      <th>freq</th>\n",
       "      <td>42</td>\n",
       "      <td>163</td>\n",
       "      <td>66</td>\n",
       "      <td>6796</td>\n",
       "      <td>NaN</td>\n",
       "      <td>NaN</td>\n",
       "      <td>40</td>\n",
       "      <td>3</td>\n",
       "      <td>9022</td>\n",
       "    </tr>\n",
       "    <tr>\n",
       "      <th>mean</th>\n",
       "      <td>NaN</td>\n",
       "      <td>NaN</td>\n",
       "      <td>NaN</td>\n",
       "      <td>NaN</td>\n",
       "      <td>4.488744</td>\n",
       "      <td>1.360606e+09</td>\n",
       "      <td>NaN</td>\n",
       "      <td>NaN</td>\n",
       "      <td>NaN</td>\n",
       "    </tr>\n",
       "    <tr>\n",
       "      <th>std</th>\n",
       "      <td>NaN</td>\n",
       "      <td>NaN</td>\n",
       "      <td>NaN</td>\n",
       "      <td>NaN</td>\n",
       "      <td>0.894642</td>\n",
       "      <td>3.779735e+07</td>\n",
       "      <td>NaN</td>\n",
       "      <td>NaN</td>\n",
       "      <td>NaN</td>\n",
       "    </tr>\n",
       "    <tr>\n",
       "      <th>min</th>\n",
       "      <td>NaN</td>\n",
       "      <td>NaN</td>\n",
       "      <td>NaN</td>\n",
       "      <td>NaN</td>\n",
       "      <td>1.000000</td>\n",
       "      <td>1.095466e+09</td>\n",
       "      <td>NaN</td>\n",
       "      <td>NaN</td>\n",
       "      <td>NaN</td>\n",
       "    </tr>\n",
       "    <tr>\n",
       "      <th>25%</th>\n",
       "      <td>NaN</td>\n",
       "      <td>NaN</td>\n",
       "      <td>NaN</td>\n",
       "      <td>NaN</td>\n",
       "      <td>4.000000</td>\n",
       "      <td>1.343434e+09</td>\n",
       "      <td>NaN</td>\n",
       "      <td>NaN</td>\n",
       "      <td>NaN</td>\n",
       "    </tr>\n",
       "    <tr>\n",
       "      <th>50%</th>\n",
       "      <td>NaN</td>\n",
       "      <td>NaN</td>\n",
       "      <td>NaN</td>\n",
       "      <td>NaN</td>\n",
       "      <td>5.000000</td>\n",
       "      <td>1.368490e+09</td>\n",
       "      <td>NaN</td>\n",
       "      <td>NaN</td>\n",
       "      <td>NaN</td>\n",
       "    </tr>\n",
       "    <tr>\n",
       "      <th>75%</th>\n",
       "      <td>NaN</td>\n",
       "      <td>NaN</td>\n",
       "      <td>NaN</td>\n",
       "      <td>NaN</td>\n",
       "      <td>5.000000</td>\n",
       "      <td>1.388966e+09</td>\n",
       "      <td>NaN</td>\n",
       "      <td>NaN</td>\n",
       "      <td>NaN</td>\n",
       "    </tr>\n",
       "    <tr>\n",
       "      <th>max</th>\n",
       "      <td>NaN</td>\n",
       "      <td>NaN</td>\n",
       "      <td>NaN</td>\n",
       "      <td>NaN</td>\n",
       "      <td>5.000000</td>\n",
       "      <td>1.405987e+09</td>\n",
       "      <td>NaN</td>\n",
       "      <td>NaN</td>\n",
       "      <td>NaN</td>\n",
       "    </tr>\n",
       "  </tbody>\n",
       "</table>\n",
       "</div>"
      ],
      "text/plain": [
       "           reviewerID        asin     reviewerName helpful       overall  \\\n",
       "count           10261       10261            10234   10261  10261.000000   \n",
       "unique           1429         900             1397     269           NaN   \n",
       "top     ADH0O8UVJOT10  B003VWJ2K8  Amazon Customer  [0, 0]           NaN   \n",
       "freq               42         163               66    6796           NaN   \n",
       "mean              NaN         NaN              NaN     NaN      4.488744   \n",
       "std               NaN         NaN              NaN     NaN      0.894642   \n",
       "min               NaN         NaN              NaN     NaN      1.000000   \n",
       "25%               NaN         NaN              NaN     NaN      4.000000   \n",
       "50%               NaN         NaN              NaN     NaN      5.000000   \n",
       "75%               NaN         NaN              NaN     NaN      5.000000   \n",
       "max               NaN         NaN              NaN     NaN      5.000000   \n",
       "\n",
       "        unixReviewTime   reviewTime                reviews sentiment  \n",
       "count     1.026100e+04        10261                  10261     10261  \n",
       "unique             NaN         1570                  10254         3  \n",
       "top                NaN  01 22, 2013  good string five star  Positive  \n",
       "freq               NaN           40                      3      9022  \n",
       "mean      1.360606e+09          NaN                    NaN       NaN  \n",
       "std       3.779735e+07          NaN                    NaN       NaN  \n",
       "min       1.095466e+09          NaN                    NaN       NaN  \n",
       "25%       1.343434e+09          NaN                    NaN       NaN  \n",
       "50%       1.368490e+09          NaN                    NaN       NaN  \n",
       "75%       1.388966e+09          NaN                    NaN       NaN  \n",
       "max       1.405987e+09          NaN                    NaN       NaN  "
      ]
     },
     "execution_count": 24,
     "metadata": {},
     "output_type": "execute_result"
    }
   ],
   "source": [
    "dataset.describe(include = \"all\")"
   ]
  },
  {
   "cell_type": "code",
   "execution_count": 25,
   "id": "46df6543-8bd9-4d5b-8f26-9a614e267202",
   "metadata": {},
   "outputs": [],
   "source": [
    "dataset[\"polarity\"] = dataset[\"reviews\"].map(lambda Text: TextBlob(Text).sentiment.polarity)"
   ]
  },
  {
   "cell_type": "code",
   "execution_count": 26,
   "id": "32250985-8b3d-4369-9d21-575b508e2714",
   "metadata": {},
   "outputs": [
    {
     "data": {
      "image/png": "[encoded data removed]",
      "text/plain": [
       "<Figure size 1000x500 with 1 Axes>"
      ]
     },
     "metadata": {},
     "output_type": "display_data"
    }
   ],
   "source": [
    "dataset[\"polarity\"].plot(kind = \"hist\", bins = 40, edgecolor = \"blue\", linewidth = 1, color = \"orange\", figsize = (10,5))\n",
    "plt.title(\"Polarity Score in Reviews\", color = \"blue\", pad = 20)\n",
    "plt.xlabel(\"Polarity\", labelpad = 15, color = \"red\")\n",
    "plt.ylabel(\"Amount of Reviews\", labelpad = 20, color = \"green\")\n",
    "\n",
    "plt.show()"
   ]
  },
  {
   "cell_type": "code",
   "execution_count": 27,
   "id": "473a4286-c043-4387-8e56-f8cc9597f74d",
   "metadata": {},
   "outputs": [],
   "source": [
    "dataset[\"length\"] = dataset[\"reviews\"].astype(str).apply(len)"
   ]
  },
  {
   "cell_type": "code",
   "execution_count": 28,
   "id": "af3c1670-bf17-44ac-a9b7-1dfcd256515f",
   "metadata": {},
   "outputs": [
    {
     "data": {
      "image/png": "[encoded data removed]",
      "text/plain": [
       "<Figure size 1000x500 with 1 Axes>"
      ]
     },
     "metadata": {},
     "output_type": "display_data"
    }
   ],
   "source": [
    "dataset[\"length\"].plot(kind = \"hist\", bins = 40, edgecolor = \"blue\", linewidth = 1, color = \"orange\", figsize = (10,5))\n",
    "plt.title(\"Length of Reviews\", color = \"blue\", pad = 20)\n",
    "plt.xlabel(\"Length\", labelpad = 15, color = \"red\")\n",
    "plt.ylabel(\"Amount of Reviews\", labelpad = 20, color = \"green\")\n",
    "\n",
    "plt.show()"
   ]
  },
  {
   "cell_type": "code",
   "execution_count": 29,
   "id": "4896cac0-29ae-426a-a2bc-282f8d3ea476",
   "metadata": {},
   "outputs": [],
   "source": [
    "dataset[\"word_counts\"] = dataset[\"reviews\"].apply(lambda x: len(str(x).split()))"
   ]
  },
  {
   "cell_type": "code",
   "execution_count": 30,
   "id": "827b57d8-6095-4be6-8923-c1b2c9e79fa9",
   "metadata": {},
   "outputs": [
    {
     "data": {
      "image/png": "[encoded data removed]",
      "text/plain": [
       "<Figure size 1000x500 with 1 Axes>"
      ]
     },
     "metadata": {},
     "output_type": "display_data"
    }
   ],
   "source": [
    "dataset[\"word_counts\"].plot(kind = \"hist\", bins = 40, edgecolor = \"blue\", linewidth = 1, color = \"orange\", figsize = (10,5))\n",
    "plt.title(\"Word Counts in Reviews\", color = \"blue\", pad = 20)\n",
    "plt.xlabel(\"Word Counts\", labelpad = 15, color = \"red\")\n",
    "plt.ylabel(\"Amount of Reviews\", labelpad = 20, color = \"green\")\n",
    "\n",
    "plt.show()"
   ]
  },
  {
   "cell_type": "code",
   "execution_count": 31,
   "id": "65687cd9-3244-4314-908c-429803ca22e7",
   "metadata": {},
   "outputs": [],
   "source": [
    "Columns = [\"reviewerID\", \"asin\", \"reviewerName\", \"helpful\", \"unixReviewTime\", \"reviewTime\", \"polarity\", \"length\", \"word_counts\", \"overall\"]\n",
    "dataset.drop(columns = Columns, axis = 1, inplace = True)"
   ]
  },
  {
   "cell_type": "code",
   "execution_count": 32,
   "id": "4553ff45-84e6-4084-bf95-e4e8391aff02",
   "metadata": {},
   "outputs": [
    {
     "data": {
      "text/html": [
       "<div>\n",
       "<style scoped>\n",
       "    .dataframe tbody tr th:only-of-type {\n",
       "        vertical-align: middle;\n",
       "    }\n",
       "\n",
       "    .dataframe tbody tr th {\n",
       "        vertical-align: top;\n",
       "    }\n",
       "\n",
       "    .dataframe thead th {\n",
       "        text-align: right;\n",
       "    }\n",
       "</style>\n",
       "<table border=\"1\" class=\"dataframe\">\n",
       "  <thead>\n",
       "    <tr style=\"text-align: right;\">\n",
       "      <th></th>\n",
       "      <th>reviews</th>\n",
       "      <th>sentiment</th>\n",
       "    </tr>\n",
       "  </thead>\n",
       "  <tbody>\n",
       "    <tr>\n",
       "      <th>0</th>\n",
       "      <td>not much write exactly supposed filter pop sou...</td>\n",
       "      <td>Positive</td>\n",
       "    </tr>\n",
       "    <tr>\n",
       "      <th>1</th>\n",
       "      <td>product exactly quite affordable not realized ...</td>\n",
       "      <td>Positive</td>\n",
       "    </tr>\n",
       "    <tr>\n",
       "      <th>2</th>\n",
       "      <td>primary job device block breath would otherwis...</td>\n",
       "      <td>Positive</td>\n",
       "    </tr>\n",
       "    <tr>\n",
       "      <th>3</th>\n",
       "      <td>nice windscreen protects mxl mic prevents pop ...</td>\n",
       "      <td>Positive</td>\n",
       "    </tr>\n",
       "    <tr>\n",
       "      <th>4</th>\n",
       "      <td>pop filter great look performs like studio fil...</td>\n",
       "      <td>Positive</td>\n",
       "    </tr>\n",
       "  </tbody>\n",
       "</table>\n",
       "</div>"
      ],
      "text/plain": [
       "                                             reviews sentiment\n",
       "0  not much write exactly supposed filter pop sou...  Positive\n",
       "1  product exactly quite affordable not realized ...  Positive\n",
       "2  primary job device block breath would otherwis...  Positive\n",
       "3  nice windscreen protects mxl mic prevents pop ...  Positive\n",
       "4  pop filter great look performs like studio fil...  Positive"
      ]
     },
     "execution_count": 32,
     "metadata": {},
     "output_type": "execute_result"
    }
   ],
   "source": [
    "dataset.head()"
   ]
  },
  {
   "cell_type": "code",
   "execution_count": 33,
   "id": "26605050-7d15-4b62-b85c-f425a8b081ff",
   "metadata": {},
   "outputs": [],
   "source": [
    "Encoder = LabelEncoder()\n",
    "dataset[\"sentiment\"] = Encoder.fit_transform(dataset[\"sentiment\"])"
   ]
  },
  {
   "cell_type": "code",
   "execution_count": 34,
   "id": "fd8b3b25-2ae9-4736-ae79-0e312a5025fd",
   "metadata": {},
   "outputs": [
    {
     "data": {
      "text/plain": [
       "sentiment\n",
       "2    9022\n",
       "1     772\n",
       "0     467\n",
       "Name: count, dtype: int64"
      ]
     },
     "execution_count": 34,
     "metadata": {},
     "output_type": "execute_result"
    }
   ],
   "source": [
    "dataset[\"sentiment\"].value_counts()"
   ]
  },
  {
   "cell_type": "code",
   "execution_count": 37,
   "id": "99b1ac7f-4e68-4016-ba3b-7a64625dcfd9",
   "metadata": {},
   "outputs": [
    {
     "data": {
      "text/plain": [
       "(10261, 5000)"
      ]
     },
     "execution_count": 37,
     "metadata": {},
     "output_type": "execute_result"
    }
   ],
   "source": [
    "# Defining our vectorizer with total words of 5000 and with bigram model\n",
    "TF_IDF = TfidfVectorizer(max_features = 5000, ngram_range = (2, 2))\n",
    "# Fitting and transforming our reviews into a matrix of weighed words\n",
    "X = TF_IDF.fit_transform(dataset[\"reviews\"])\n",
    "X.shape"
   ]
  },
  {
   "cell_type": "code",
   "execution_count": 38,
   "id": "36e32ad2-b629-44d5-b7e9-17f2fdbe9f00",
   "metadata": {},
   "outputs": [],
   "source": [
    "# Declaring our target variable\n",
    "y = dataset[\"sentiment\"]"
   ]
  },
  {
   "cell_type": "code",
   "execution_count": 39,
   "id": "935e30a1-e32b-4a47-8b13-375c024e0708",
   "metadata": {},
   "outputs": [
    {
     "data": {
      "text/plain": [
       "Counter({2: 9022, 1: 772, 0: 467})"
      ]
     },
     "execution_count": 39,
     "metadata": {},
     "output_type": "execute_result"
    }
   ],
   "source": [
    "Counter(y)"
   ]
  },
  {
   "cell_type": "code",
   "execution_count": 40,
   "id": "f708211d-34c7-4ff1-84d9-009e511a834a",
   "metadata": {},
   "outputs": [],
   "source": [
    "Balancer = SMOTE(random_state = 42)\n",
    "X_final, y_final = Balancer.fit_resample(X, y)"
   ]
  },
  {
   "cell_type": "code",
   "execution_count": 41,
   "id": "3fa21e23-8f14-400e-b04c-0b7f49182f2d",
   "metadata": {},
   "outputs": [
    {
     "data": {
      "text/plain": [
       "Counter({2: 9022, 1: 9022, 0: 9022})"
      ]
     },
     "execution_count": 41,
     "metadata": {},
     "output_type": "execute_result"
    }
   ],
   "source": [
    "Counter(y_final)"
   ]
  },
  {
   "cell_type": "code",
   "execution_count": 42,
   "id": "0e35dde4-9516-4946-9f53-2dc4ca58c131",
   "metadata": {},
   "outputs": [],
   "source": [
    "X_train, X_test, y_train, y_test = train_test_split(X_final, y_final, test_size = 0.25, random_state = 42)"
   ]
  },
  {
   "cell_type": "code",
   "execution_count": 44,
   "id": "d943b52c-34b7-4cb2-a7f0-38a3af7dcc6c",
   "metadata": {},
   "outputs": [
    {
     "name": "stdout",
     "output_type": "stream",
     "text": [
      "Decision Tree Test Accuracy: 0.8207773165468035\n",
      "Logistic Regression Test Accuracy: 0.8819802942387887\n",
      "K-Neighbors Test Accuracy: 0.850892187734293\n"
     ]
    }
   ],
   "source": [
    "DTree = DecisionTreeClassifier()\n",
    "LogReg = LogisticRegression()\n",
    "#SVC = SVC()\n",
    "#RForest = RandomForestClassifier()\n",
    "#Bayes = BernoulliNB()\n",
    "KNN = KNeighborsClassifier()\n",
    "\n",
    "Models = [DTree, LogReg,KNN]\n",
    "Models_Dict = {0: \"Decision Tree\", 1: \"Logistic Regression\", 2: \"K-Neighbors\"}\n",
    "\n",
    "for i, model in enumerate(Models):\n",
    "  print(\"{} Test Accuracy: {}\".format(Models_Dict[i], cross_val_score(model, X, y, cv = 10, scoring = \"accuracy\").mean()))"
   ]
  },
  {
   "cell_type": "code",
   "execution_count": 45,
   "id": "f9b3aa16-ad5c-44ba-9601-d84c88d9c752",
   "metadata": {},
   "outputs": [
    {
     "name": "stderr",
     "output_type": "stream",
     "text": [
      "C:\\Users\\microsoft\\anaconda3\\Lib\\site-packages\\sklearn\\model_selection\\_validation.py:547: FitFailedWarning: \n",
      "500 fits failed out of a total of 1000.\n",
      "The score on these train-test partitions for these parameters will be set to nan.\n",
      "If these failures are not expected, you can try to debug them by setting error_score='raise'.\n",
      "\n",
      "Below are more details about the failures:\n",
      "--------------------------------------------------------------------------------\n",
      "500 fits failed with the following error:\n",
      "Traceback (most recent call last):\n",
      "  File \"C:\\Users\\microsoft\\anaconda3\\Lib\\site-packages\\sklearn\\model_selection\\_validation.py\", line 895, in _fit_and_score\n",
      "    estimator.fit(X_train, y_train, **fit_params)\n",
      "  File \"C:\\Users\\microsoft\\anaconda3\\Lib\\site-packages\\sklearn\\base.py\", line 1474, in wrapper\n",
      "    return fit_method(estimator, *args, **kwargs)\n",
      "           ^^^^^^^^^^^^^^^^^^^^^^^^^^^^^^^^^^^^^^\n",
      "  File \"C:\\Users\\microsoft\\anaconda3\\Lib\\site-packages\\sklearn\\linear_model\\_logistic.py\", line 1172, in fit\n",
      "    solver = _check_solver(self.solver, self.penalty, self.dual)\n",
      "             ^^^^^^^^^^^^^^^^^^^^^^^^^^^^^^^^^^^^^^^^^^^^^^^^^^^\n",
      "  File \"C:\\Users\\microsoft\\anaconda3\\Lib\\site-packages\\sklearn\\linear_model\\_logistic.py\", line 67, in _check_solver\n",
      "    raise ValueError(\n",
      "ValueError: Solver lbfgs supports only 'l2' or None penalties, got l1 penalty.\n",
      "\n",
      "  warnings.warn(some_fits_failed_message, FitFailedWarning)\n",
      "C:\\Users\\microsoft\\anaconda3\\Lib\\site-packages\\sklearn\\model_selection\\_search.py:1051: UserWarning: One or more of the test scores are non-finite: [       nan 0.33509045        nan 0.33834185        nan 0.35218482\n",
      "        nan 0.38341788        nan 0.43327277        nan 0.48790581\n",
      "        nan 0.54401707        nan 0.59441376        nan 0.64362777\n",
      "        nan 0.68092006        nan 0.71560156        nan 0.74200659\n",
      "        nan 0.76461877        nan 0.7816639         nan 0.79082722\n",
      "        nan 0.79299495        nan 0.79703441        nan 0.80329095\n",
      "        nan 0.81299592        nan 0.8238832         nan 0.83644534\n",
      "        nan 0.85142141        nan 0.86349103        nan 0.87659511\n",
      "        nan 0.88758048        nan 0.89703924        nan 0.90521711\n",
      "        nan 0.90965085        nan 0.9176808         nan 0.92073515\n",
      "        nan 0.92142488        nan 0.92201606        nan 0.9234939\n",
      "        nan 0.92383872        nan 0.92600633        nan 0.92763212\n",
      "        nan 0.92846956        nan 0.93196729        nan 0.93310039\n",
      "        nan 0.93551443        nan 0.93674593        nan 0.93930743\n",
      "        nan 0.94083455        nan 0.94186913        nan 0.94300216\n",
      "        nan 0.94452937        nan 0.94507146        nan 0.94635223\n",
      "        nan 0.94684486        nan 0.94743602]\n",
      "  warnings.warn(\n"
     ]
    },
    {
     "name": "stdout",
     "output_type": "stream",
     "text": [
      "Best Accuracy: 94.74 %\n",
      "Best Parameters: {'C': 10000.0, 'penalty': 'l2'}\n"
     ]
    }
   ],
   "source": [
    "Param = {\"C\": np.logspace(-4, 4, 50), \"penalty\": ['l1', 'l2']}\n",
    "grid_search = GridSearchCV(estimator = LogisticRegression(random_state = 42), param_grid = Param, scoring = \"accuracy\", cv = 10, verbose = 0, n_jobs = -1)\n",
    "\n",
    "grid_search.fit(X_train, y_train)\n",
    "best_accuracy = grid_search.best_score_\n",
    "best_parameters = grid_search.best_params_\n",
    "\n",
    "print(\"Best Accuracy: {:.2f} %\".format(best_accuracy*100))\n",
    "print(\"Best Parameters:\", best_parameters)"
   ]
  },
  {
   "cell_type": "code",
   "execution_count": 47,
   "id": "38c13b0d-add6-4010-9d84-d020c63ce011",
   "metadata": {},
   "outputs": [],
   "source": [
    "Classifier = LogisticRegression(random_state = 42, C = 6866.488450042998, penalty = 'l2')\n",
    "Classifier.fit(X_train, y_train)\n",
    "\n",
    "Prediction = Classifier.predict(X_test)"
   ]
  },
  {
   "cell_type": "code",
   "execution_count": 48,
   "id": "9752f2d2-616d-4651-a0eb-ff0f9a3efee4",
   "metadata": {},
   "outputs": [
    {
     "data": {
      "text/plain": [
       "0.9527116890793557"
      ]
     },
     "execution_count": 48,
     "metadata": {},
     "output_type": "execute_result"
    }
   ],
   "source": [
    "accuracy_score(y_test, Prediction)"
   ]
  },
  {
   "cell_type": "code",
   "execution_count": 49,
   "id": "e9f6217a-f091-4b3f-a2bb-92e28c71a77c",
   "metadata": {},
   "outputs": [],
   "source": [
    "ConfusionMatrix = confusion_matrix(y_test, Prediction)"
   ]
  },
  {
   "cell_type": "code",
   "execution_count": 51,
   "id": "a3434fc2-8f2a-4ba5-a99d-afbbd7ae62ab",
   "metadata": {},
   "outputs": [],
   "source": [
    "# Plotting Function for Confusion Matrix\n",
    "def plot_cm(cm, classes, title, normalized = False, cmap = plt.cm.Blues):\n",
    "\n",
    "  plt.imshow(cm, interpolation = \"nearest\", cmap = cmap)\n",
    "  plt.title(title, pad = 20)\n",
    "  plt.colorbar()\n",
    "  tick_marks = np.arange(len(classes))\n",
    "  plt.xticks(tick_marks, classes)\n",
    "  plt.yticks(tick_marks, classes)\n",
    "\n",
    "  if normalized:\n",
    "    cm = cm.astype('float') / cm.sum(axis = 1)[: np.newaxis]\n",
    "    print(\"Normalized Confusion Matrix\")\n",
    "  else:\n",
    "    print(\"Unnormalized Confusion Matrix\")\n",
    "  \n",
    "  threshold = cm.max() / 2\n",
    "  for i in range(cm.shape[0]):\n",
    "    for j in range(cm.shape[1]):\n",
    "      plt.text(j, i, cm[i, j], horizontalalignment = \"center\", color = \"white\" if cm[i, j] > threshold else \"black\")\n",
    "\n",
    "  plt.tight_layout()\n",
    "  plt.xlabel(\"Predicted Label\", labelpad = 20)\n",
    "  plt.ylabel(\"Real Label\", labelpad = 20)"
   ]
  },
  {
   "cell_type": "code",
   "execution_count": 52,
   "id": "76005629-5da5-48cd-b387-44df02501909",
   "metadata": {},
   "outputs": [
    {
     "name": "stdout",
     "output_type": "stream",
     "text": [
      "Unnormalized Confusion Matrix\n"
     ]
    },
    {
     "data": {
      "image/png": "[encoded data removed]",
      "text/plain": [
       "<Figure size 640x480 with 2 Axes>"
      ]
     },
     "metadata": {},
     "output_type": "display_data"
    }
   ],
   "source": [
    "plot_cm(ConfusionMatrix, classes = [\"Positive\", \"Neutral\", \"Negative\"], title = \"Confusion Matrix of Sentiment Analysis\")"
   ]
  },
  {
   "cell_type": "code",
   "execution_count": 53,
   "id": "137900ce-3fb3-4c7d-9b9e-9e9d858027da",
   "metadata": {},
   "outputs": [
    {
     "name": "stdout",
     "output_type": "stream",
     "text": [
      "              precision    recall  f1-score   support\n",
      "\n",
      "           0       0.93      1.00      0.96      2225\n",
      "           1       0.93      0.98      0.96      2277\n",
      "           2       1.00      0.88      0.94      2265\n",
      "\n",
      "    accuracy                           0.95      6767\n",
      "   macro avg       0.96      0.95      0.95      6767\n",
      "weighted avg       0.96      0.95      0.95      6767\n",
      "\n"
     ]
    }
   ],
   "source": [
    "print(classification_report(y_test, Prediction))"
   ]
  },
  {
   "cell_type": "code",
   "execution_count": null,
   "id": "55211cca-6333-4a93-8708-1c9f794bb91d",
   "metadata": {},
   "outputs": [],
   "source": []
  }
 ],
 "metadata": {
  "kernelspec": {
   "display_name": "Python 3 (ipykernel)",
   "language": "python",
   "name": "python3"
  },
  "language_info": {
   "codemirror_mode": {
    "name": "ipython",
    "version": 3
   },
   "file_extension": ".py",
   "mimetype": "text/x-python",
   "name": "python",
   "nbconvert_exporter": "python",
   "pygments_lexer": "ipython3",
   "version": "3.12.4"
  }
 },
 "nbformat": 4,
 "nbformat_minor": 5
}
