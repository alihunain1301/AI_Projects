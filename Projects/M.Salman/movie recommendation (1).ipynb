{
 "cells": [
  {
   "cell_type": "code",
   "execution_count": 54,
   "id": "bc7eb166-87ab-4109-a01e-815587d42461",
   "metadata": {},
   "outputs": [],
   "source": [
    "import pandas as pd\n",
    "from sklearn.model_selection import train_test_split\n",
    "from sklearn.linear_model import LinearRegression\n",
    "from sklearn.metrics import mean_squared_error\n",
    "import numpy as np\n"
   ]
  },
  {
   "cell_type": "code",
   "execution_count": 55,
   "id": "9e85e397-d665-46ef-a8de-cdba5c007476",
   "metadata": {},
   "outputs": [
    {
     "name": "stdout",
     "output_type": "stream",
     "text": [
      "      budget                                             genres  \\\n",
      "0  237000000  [{\"id\": 28, \"name\": \"Action\"}, {\"id\": 12, \"nam...   \n",
      "1  300000000  [{\"id\": 12, \"name\": \"Adventure\"}, {\"id\": 14, \"...   \n",
      "2  245000000  [{\"id\": 28, \"name\": \"Action\"}, {\"id\": 12, \"nam...   \n",
      "3  250000000  [{\"id\": 28, \"name\": \"Action\"}, {\"id\": 80, \"nam...   \n",
      "4  260000000  [{\"id\": 28, \"name\": \"Action\"}, {\"id\": 12, \"nam...   \n",
      "5  258000000  [{\"id\": 14, \"name\": \"Fantasy\"}, {\"id\": 28, \"na...   \n",
      "6  260000000  [{\"id\": 16, \"name\": \"Animation\"}, {\"id\": 10751...   \n",
      "7  280000000  [{\"id\": 28, \"name\": \"Action\"}, {\"id\": 12, \"nam...   \n",
      "8  250000000  [{\"id\": 12, \"name\": \"Adventure\"}, {\"id\": 14, \"...   \n",
      "9  250000000  [{\"id\": 28, \"name\": \"Action\"}, {\"id\": 12, \"nam...   \n",
      "\n",
      "                                            homepage      id  \\\n",
      "0                        http://www.avatarmovie.com/   19995   \n",
      "1       http://disney.go.com/disneypictures/pirates/     285   \n",
      "2        http://www.sonypictures.com/movies/spectre/  206647   \n",
      "3                 http://www.thedarkknightrises.com/   49026   \n",
      "4               http://movies.disney.com/john-carter   49529   \n",
      "5    http://www.sonypictures.com/movies/spider-man3/     559   \n",
      "6       http://disney.go.com/disneypictures/tangled/   38757   \n",
      "7  http://marvel.com/movies/movie/193/avengers_ag...   99861   \n",
      "8  http://harrypotter.warnerbros.com/harrypottera...     767   \n",
      "9       http://www.batmanvsupermandawnofjustice.com/  209112   \n",
      "\n",
      "                                            keywords original_language  \\\n",
      "0  [{\"id\": 1463, \"name\": \"culture clash\"}, {\"id\":...                en   \n",
      "1  [{\"id\": 270, \"name\": \"ocean\"}, {\"id\": 726, \"na...                en   \n",
      "2  [{\"id\": 470, \"name\": \"spy\"}, {\"id\": 818, \"name...                en   \n",
      "3  [{\"id\": 849, \"name\": \"dc comics\"}, {\"id\": 853,...                en   \n",
      "4  [{\"id\": 818, \"name\": \"based on novel\"}, {\"id\":...                en   \n",
      "5  [{\"id\": 851, \"name\": \"dual identity\"}, {\"id\": ...                en   \n",
      "6  [{\"id\": 1562, \"name\": \"hostage\"}, {\"id\": 2343,...                en   \n",
      "7  [{\"id\": 8828, \"name\": \"marvel comic\"}, {\"id\": ...                en   \n",
      "8  [{\"id\": 616, \"name\": \"witch\"}, {\"id\": 2343, \"n...                en   \n",
      "9  [{\"id\": 849, \"name\": \"dc comics\"}, {\"id\": 7002...                en   \n",
      "\n",
      "                             original_title  \\\n",
      "0                                    Avatar   \n",
      "1  Pirates of the Caribbean: At World's End   \n",
      "2                                   Spectre   \n",
      "3                     The Dark Knight Rises   \n",
      "4                               John Carter   \n",
      "5                              Spider-Man 3   \n",
      "6                                   Tangled   \n",
      "7                   Avengers: Age of Ultron   \n",
      "8    Harry Potter and the Half-Blood Prince   \n",
      "9        Batman v Superman: Dawn of Justice   \n",
      "\n",
      "                                            overview  popularity  \\\n",
      "0  In the 22nd century, a paraplegic Marine is di...  150.437577   \n",
      "1  Captain Barbossa, long believed to be dead, ha...  139.082615   \n",
      "2  A cryptic message from Bond’s past sends him o...  107.376788   \n",
      "3  Following the death of District Attorney Harve...  112.312950   \n",
      "4  John Carter is a war-weary, former military ca...   43.926995   \n",
      "5  The seemingly invincible Spider-Man goes up ag...  115.699814   \n",
      "6  When the kingdom's most wanted-and most charmi...   48.681969   \n",
      "7  When Tony Stark tries to jumpstart a dormant p...  134.279229   \n",
      "8  As Harry begins his sixth year at Hogwarts, he...   98.885637   \n",
      "9  Fearing the actions of a god-like Super Hero l...  155.790452   \n",
      "\n",
      "                                production_companies  \\\n",
      "0  [{\"name\": \"Ingenious Film Partners\", \"id\": 289...   \n",
      "1  [{\"name\": \"Walt Disney Pictures\", \"id\": 2}, {\"...   \n",
      "2  [{\"name\": \"Columbia Pictures\", \"id\": 5}, {\"nam...   \n",
      "3  [{\"name\": \"Legendary Pictures\", \"id\": 923}, {\"...   \n",
      "4        [{\"name\": \"Walt Disney Pictures\", \"id\": 2}]   \n",
      "5  [{\"name\": \"Columbia Pictures\", \"id\": 5}, {\"nam...   \n",
      "6  [{\"name\": \"Walt Disney Pictures\", \"id\": 2}, {\"...   \n",
      "7  [{\"name\": \"Marvel Studios\", \"id\": 420}, {\"name...   \n",
      "8  [{\"name\": \"Warner Bros.\", \"id\": 6194}, {\"name\"...   \n",
      "9  [{\"name\": \"DC Comics\", \"id\": 429}, {\"name\": \"A...   \n",
      "\n",
      "                                production_countries release_date     revenue  \\\n",
      "0  [{\"iso_3166_1\": \"US\", \"name\": \"United States o...   2009-12-10  2787965087   \n",
      "1  [{\"iso_3166_1\": \"US\", \"name\": \"United States o...   2007-05-19   961000000   \n",
      "2  [{\"iso_3166_1\": \"GB\", \"name\": \"United Kingdom\"...   2015-10-26   880674609   \n",
      "3  [{\"iso_3166_1\": \"US\", \"name\": \"United States o...   2012-07-16  1084939099   \n",
      "4  [{\"iso_3166_1\": \"US\", \"name\": \"United States o...   2012-03-07   284139100   \n",
      "5  [{\"iso_3166_1\": \"US\", \"name\": \"United States o...   2007-05-01   890871626   \n",
      "6  [{\"iso_3166_1\": \"US\", \"name\": \"United States o...   2010-11-24   591794936   \n",
      "7  [{\"iso_3166_1\": \"US\", \"name\": \"United States o...   2015-04-22  1405403694   \n",
      "8  [{\"iso_3166_1\": \"GB\", \"name\": \"United Kingdom\"...   2009-07-07   933959197   \n",
      "9  [{\"iso_3166_1\": \"US\", \"name\": \"United States o...   2016-03-23   873260194   \n",
      "\n",
      "   runtime                                   spoken_languages    status  \\\n",
      "0    162.0  [{\"iso_639_1\": \"en\", \"name\": \"English\"}, {\"iso...  Released   \n",
      "1    169.0           [{\"iso_639_1\": \"en\", \"name\": \"English\"}]  Released   \n",
      "2    148.0  [{\"iso_639_1\": \"fr\", \"name\": \"Fran\\u00e7ais\"},...  Released   \n",
      "3    165.0           [{\"iso_639_1\": \"en\", \"name\": \"English\"}]  Released   \n",
      "4    132.0           [{\"iso_639_1\": \"en\", \"name\": \"English\"}]  Released   \n",
      "5    139.0  [{\"iso_639_1\": \"en\", \"name\": \"English\"}, {\"iso...  Released   \n",
      "6    100.0           [{\"iso_639_1\": \"en\", \"name\": \"English\"}]  Released   \n",
      "7    141.0           [{\"iso_639_1\": \"en\", \"name\": \"English\"}]  Released   \n",
      "8    153.0           [{\"iso_639_1\": \"en\", \"name\": \"English\"}]  Released   \n",
      "9    151.0           [{\"iso_639_1\": \"en\", \"name\": \"English\"}]  Released   \n",
      "\n",
      "                                          tagline  \\\n",
      "0                     Enter the World of Pandora.   \n",
      "1  At the end of the world, the adventure begins.   \n",
      "2                           A Plan No One Escapes   \n",
      "3                                 The Legend Ends   \n",
      "4            Lost in our world, found in another.   \n",
      "5                              The battle within.   \n",
      "6        They're taking adventure to new lengths.   \n",
      "7                             A New Age Has Come.   \n",
      "8                           Dark Secrets Revealed   \n",
      "9                              Justice or revenge   \n",
      "\n",
      "                                      title  vote_average  vote_count  \n",
      "0                                    Avatar           7.2       11800  \n",
      "1  Pirates of the Caribbean: At World's End           6.9        4500  \n",
      "2                                   Spectre           6.3        4466  \n",
      "3                     The Dark Knight Rises           7.6        9106  \n",
      "4                               John Carter           6.1        2124  \n",
      "5                              Spider-Man 3           5.9        3576  \n",
      "6                                   Tangled           7.4        3330  \n",
      "7                   Avengers: Age of Ultron           7.3        6767  \n",
      "8    Harry Potter and the Half-Blood Prince           7.4        5293  \n",
      "9        Batman v Superman: Dawn of Justice           5.7        7004  \n",
      "   movie_id                                     title  \\\n",
      "0     19995                                    Avatar   \n",
      "1       285  Pirates of the Caribbean: At World's End   \n",
      "2    206647                                   Spectre   \n",
      "3     49026                     The Dark Knight Rises   \n",
      "4     49529                               John Carter   \n",
      "5       559                              Spider-Man 3   \n",
      "6     38757                                   Tangled   \n",
      "7     99861                   Avengers: Age of Ultron   \n",
      "8       767    Harry Potter and the Half-Blood Prince   \n",
      "9    209112        Batman v Superman: Dawn of Justice   \n",
      "\n",
      "                                                cast  \\\n",
      "0  [{\"cast_id\": 242, \"character\": \"Jake Sully\", \"...   \n",
      "1  [{\"cast_id\": 4, \"character\": \"Captain Jack Spa...   \n",
      "2  [{\"cast_id\": 1, \"character\": \"James Bond\", \"cr...   \n",
      "3  [{\"cast_id\": 2, \"character\": \"Bruce Wayne / Ba...   \n",
      "4  [{\"cast_id\": 5, \"character\": \"John Carter\", \"c...   \n",
      "5  [{\"cast_id\": 30, \"character\": \"Peter Parker / ...   \n",
      "6  [{\"cast_id\": 34, \"character\": \"Flynn Rider (vo...   \n",
      "7  [{\"cast_id\": 76, \"character\": \"Tony Stark / Ir...   \n",
      "8  [{\"cast_id\": 3, \"character\": \"Harry Potter\", \"...   \n",
      "9  [{\"cast_id\": 18, \"character\": \"Bruce Wayne / B...   \n",
      "\n",
      "                                                crew  \n",
      "0  [{\"credit_id\": \"52fe48009251416c750aca23\", \"de...  \n",
      "1  [{\"credit_id\": \"52fe4232c3a36847f800b579\", \"de...  \n",
      "2  [{\"credit_id\": \"54805967c3a36829b5002c41\", \"de...  \n",
      "3  [{\"credit_id\": \"52fe4781c3a36847f81398c3\", \"de...  \n",
      "4  [{\"credit_id\": \"52fe479ac3a36847f813eaa3\", \"de...  \n",
      "5  [{\"credit_id\": \"52fe4252c3a36847f80151a5\", \"de...  \n",
      "6  [{\"credit_id\": \"52fe46db9251416c91062101\", \"de...  \n",
      "7  [{\"credit_id\": \"55d5f7d4c3a3683e7e0016eb\", \"de...  \n",
      "8  [{\"credit_id\": \"52fe4273c3a36847f801fab1\", \"de...  \n",
      "9  [{\"credit_id\": \"553bf23692514135c8002886\", \"de...  \n"
     ]
    }
   ],
   "source": [
    "credits = pd.read_csv(\"tmdb_5000_credits.csv\")\n",
    "movies = pd.read_csv(\"tmdb_5000_movies.csv\")\n",
    "print(movies.head(10))\n",
    "print(credits.head(10))"
   ]
  },
  {
   "cell_type": "code",
   "execution_count": 56,
   "id": "645e5cbf-686c-423e-83c7-2ccd5b385c2d",
   "metadata": {},
   "outputs": [],
   "source": [
    "movies = movies.merge(credits, on='title')\n",
    "movies = movies[['movie_id', 'title', 'cast', 'crew', 'genres', 'budget', 'revenue', 'vote_average']]\n"
   ]
  },
  {
   "cell_type": "code",
   "execution_count": 57,
   "id": "0377d49a-3ecd-4ed9-8d6c-857f33bbe13d",
   "metadata": {},
   "outputs": [],
   "source": [
    "def extract_names(data):\n",
    "    parsed_data = eval(data)\n",
    "    names = [entry['name'] for entry in parsed_data if 'name' in entry]\n",
    "    return names\n",
    "\n",
    "def extract_top_3_cast(data):\n",
    "    parsed_data = eval(data)\n",
    "    names = [entry['name'] for entry in parsed_data[:3] if 'name' in entry]\n",
    "    return names\n",
    "\n",
    "def extract_director(data):\n",
    "    parsed_data = eval(data)\n",
    "    names = [entry['name'] for entry in parsed_data if entry.get('job') == 'Director']\n",
    "    return names\n",
    "\n",
    "# ye 3no functions cast crew and genres se name ki value extract krne k lye bnye h"
   ]
  },
  {
   "cell_type": "code",
   "execution_count": 58,
   "id": "e095b261-a80d-4036-a15a-d48701849589",
   "metadata": {},
   "outputs": [],
   "source": [
    "movies['genres'] = movies['genres'].apply(extract_names)\n",
    "movies['cast'] = movies['cast'].apply(extract_top_3_cast)\n",
    "movies['crew'] = movies['crew'].apply(extract_director)\n"
   ]
  },
  {
   "cell_type": "code",
   "execution_count": 59,
   "id": "c21118a0-1778-45bd-b906-1e5c83687d73",
   "metadata": {},
   "outputs": [],
   "source": [
    "movies.fillna({'budget': 0, 'revenue': 0, 'vote_average': movies['vote_average'].mean()}, inplace=True)\n",
    "# Filling NULL values"
   ]
  },
  {
   "cell_type": "code",
   "execution_count": 77,
   "id": "00002cba-5f63-4d87-98ee-2a9ff2366f73",
   "metadata": {},
   "outputs": [],
   "source": [
    "# Regression\n",
    "def combine_features(row):\n",
    "    return \" \".join(row['genres'] + row['cast'] + row['crew']).lower()\n",
    "\n",
    "movies['tags'] = movies.apply(combine_features, axis=1)  "
   ]
  },
  {
   "cell_type": "code",
   "execution_count": 78,
   "id": "bb93ebc2-209c-416d-a281-0d6b4da0627e",
   "metadata": {},
   "outputs": [],
   "source": [
    "X = movies[['budget', 'revenue']]\n",
    "y = movies['vote_average']"
   ]
  },
  {
   "cell_type": "code",
   "execution_count": 79,
   "id": "5ab057af-c563-4aa8-9a98-e3285fa3fbc2",
   "metadata": {},
   "outputs": [],
   "source": [
    "X_train, X_test, y_train, y_test = train_test_split(X, y, test_size=0.2, random_state=0)\n"
   ]
  },
  {
   "cell_type": "code",
   "execution_count": 73,
   "id": "47f36c28-55be-40fa-86e6-62dab8d11817",
   "metadata": {},
   "outputs": [],
   "source": [
    "reg_model = LinearRegression()\n",
    "reg_model.fit(X_train, y_train)\n",
    "y_pred = reg_model.predict(X_test)"
   ]
  },
  {
   "cell_type": "code",
   "execution_count": 80,
   "id": "7262d20e-fece-4881-8eda-a91dd96a07a3",
   "metadata": {},
   "outputs": [
    {
     "name": "stdout",
     "output_type": "stream",
     "text": [
      "Regression RMSE :  1.1807791979316857\n"
     ]
    }
   ],
   "source": [
    "# mean squared error\n",
    "rmse = np.sqrt(mean_squared_error(y_test, y_pred))\n",
    "print(\"Regression RMSE : \",rmse)\n"
   ]
  },
  {
   "cell_type": "code",
   "execution_count": 85,
   "id": "a9c1a48f-733d-44c3-98ee-b0070633cd12",
   "metadata": {},
   "outputs": [
    {
     "name": "stdout",
     "output_type": "stream",
     "text": [
      "                                         title  vote_average  \\\n",
      "3                        The Dark Knight Rises           7.6   \n",
      "22         The Hobbit: The Desolation of Smaug           7.6   \n",
      "42                                 Toy Story 3           7.6   \n",
      "8       Harry Potter and the Half-Blood Prince           7.4   \n",
      "19   The Hobbit: The Battle of the Five Armies           7.1   \n",
      "26                  Captain America: Civil War           7.1   \n",
      "12  Pirates of the Caribbean: Dead Man's Chest           7.0   \n",
      "98           The Hobbit: An Unexpected Journey           7.0   \n",
      "1     Pirates of the Caribbean: At World's End           6.9   \n",
      "29                                     Skyfall           6.9   \n",
      "\n",
      "                                  genres  \n",
      "3       [Action, Crime, Drama, Thriller]  \n",
      "22                  [Adventure, Fantasy]  \n",
      "42           [Animation, Family, Comedy]  \n",
      "8           [Adventure, Fantasy, Family]  \n",
      "19          [Action, Adventure, Fantasy]  \n",
      "26  [Adventure, Action, Science Fiction]  \n",
      "12          [Adventure, Fantasy, Action]  \n",
      "98          [Adventure, Fantasy, Action]  \n",
      "1           [Adventure, Fantasy, Action]  \n",
      "29         [Action, Adventure, Thriller]  \n"
     ]
    },
    {
     "name": "stderr",
     "output_type": "stream",
     "text": [
      "D:\\Anaconda\\Lib\\site-packages\\sklearn\\base.py:493: UserWarning: X does not have valid feature names, but LinearRegression was fitted with feature names\n",
      "  warnings.warn(\n"
     ]
    }
   ],
   "source": [
    "def recommend_movies(movie_name):\n",
    "    movie = movies[movies['title'].str.lower() == movie_name.lower()]\n",
    "    if movie.empty:\n",
    "        print(\"Movie '{movie_name}' not found in the dataset\")\n",
    "\n",
    "    budget = movie.iloc[0]['budget']\n",
    "    revenue = movie.iloc[0]['revenue']\n",
    "\n",
    "    predicted_rating = reg_model.predict([[budget, revenue]])\n",
    "\n",
    "    recommendations = movies[(movies['budget'] <= budget * 1.2) &(movies['budget'] >= budget * 0.8) &(movies['revenue'] <= revenue * 1.2) &(movies['revenue'] >= revenue * 0.8) &\n",
    "        (movies['vote_average'] >= predicted_rating[0] - 1)].sort_values('vote_average', ascending=False).head(10)\n",
    "    # vote average k hisaab se ascending order m movies show hongi\n",
    "    \n",
    "    return recommendations[['title', 'vote_average', 'genres']]\n",
    "\n",
    "\n",
    "print(recommend_movies(\"The Dark Knight Rises\"))"
   ]
  },
  {
   "cell_type": "code",
   "execution_count": 86,
   "id": "a0a1d6ad-a2e1-4dc1-8303-5cc1b07a3780",
   "metadata": {},
   "outputs": [
    {
     "name": "stdout",
     "output_type": "stream",
     "text": [
      "                                                title  vote_average  \\\n",
      "46                         X-Men: Days of Future Past           7.5   \n",
      "6                                             Tangled           7.4   \n",
      "34                                Monsters University           7.0   \n",
      "81                                         Maleficent           7.0   \n",
      "30                                       Spider-Man 2           6.7   \n",
      "45                                        World War Z           6.7   \n",
      "55                                              Brave           6.7   \n",
      "63  The Chronicles of Narnia: The Lion, the Witch ...           6.7   \n",
      "24                                          King Kong           6.6   \n",
      "79                                         Iron Man 2           6.6   \n",
      "\n",
      "                                               genres  \n",
      "46      [Action, Adventure, Fantasy, Science Fiction]  \n",
      "6                                 [Animation, Family]  \n",
      "34                                [Animation, Family]  \n",
      "81      [Fantasy, Adventure, Action, Family, Romance]  \n",
      "30                       [Action, Adventure, Fantasy]  \n",
      "45  [Action, Drama, Horror, Science Fiction, Thril...  \n",
      "55  [Animation, Adventure, Comedy, Family, Action,...  \n",
      "63                       [Adventure, Family, Fantasy]  \n",
      "24                         [Adventure, Drama, Action]  \n",
      "79               [Adventure, Action, Science Fiction]  \n"
     ]
    },
    {
     "name": "stderr",
     "output_type": "stream",
     "text": [
      "D:\\Anaconda\\Lib\\site-packages\\sklearn\\base.py:493: UserWarning: X does not have valid feature names, but LinearRegression was fitted with feature names\n",
      "  warnings.warn(\n"
     ]
    }
   ],
   "source": [
    "print(recommend_movies(\"Man of steel\"))"
   ]
  },
  {
   "cell_type": "code",
   "execution_count": 87,
   "id": "dc94053b-92a4-487b-a087-2127ebd114dc",
   "metadata": {},
   "outputs": [
    {
     "name": "stdout",
     "output_type": "stream",
     "text": [
      "                                     title  vote_average  \\\n",
      "1543                             Toy Story           7.7   \n",
      "1153            Back to the Future Part II           7.4   \n",
      "1357                          The Hangover           7.2   \n",
      "1699  Indiana Jones and the Temple of Doom           7.1   \n",
      "1121                          Notting Hill           7.0   \n",
      "1360                                Batman           7.0   \n",
      "1361                                Batman           7.0   \n",
      "1467                       The Maze Runner           7.0   \n",
      "1544                                 Speed           6.8   \n",
      "1338                              Twilight           5.8   \n",
      "\n",
      "                                            genres  \n",
      "1543                   [Animation, Comedy, Family]  \n",
      "1153  [Adventure, Comedy, Family, Science Fiction]  \n",
      "1357                                      [Comedy]  \n",
      "1699                           [Adventure, Action]  \n",
      "1121                      [Romance, Comedy, Drama]  \n",
      "1360                             [Fantasy, Action]  \n",
      "1361                             [Fantasy, Action]  \n",
      "1467  [Action, Mystery, Science Fiction, Thriller]  \n",
      "1544                    [Action, Adventure, Crime]  \n",
      "1338          [Adventure, Fantasy, Drama, Romance]  \n"
     ]
    },
    {
     "name": "stderr",
     "output_type": "stream",
     "text": [
      "D:\\Anaconda\\Lib\\site-packages\\sklearn\\base.py:493: UserWarning: X does not have valid feature names, but LinearRegression was fitted with feature names\n",
      "  warnings.warn(\n"
     ]
    }
   ],
   "source": [
    "print(recommend_movies(\"Batman\"))"
   ]
  },
  {
   "cell_type": "code",
   "execution_count": 88,
   "id": "97a3c5dc-3a77-4a93-b4ce-b86811a7b1ca",
   "metadata": {},
   "outputs": [
    {
     "name": "stdout",
     "output_type": "stream",
     "text": [
      "                                     title  vote_average  \\\n",
      "1543                             Toy Story           7.7   \n",
      "1814                              Rain Man           7.6   \n",
      "2280                    Dances with Wolves           7.6   \n",
      "1699  Indiana Jones and the Temple of Doom           7.1   \n",
      "1813                        Mrs. Doubtfire           7.0   \n",
      "1544                                 Speed           6.8   \n",
      "2315                              The Mask           6.6   \n",
      "2020          There's Something About Mary           6.5   \n",
      "1819                         The Bodyguard           6.1   \n",
      "\n",
      "                                         genres  \n",
      "1543                [Animation, Comedy, Family]  \n",
      "1814                                    [Drama]  \n",
      "2280                [Adventure, Drama, Western]  \n",
      "1699                        [Adventure, Action]  \n",
      "1813                    [Comedy, Drama, Family]  \n",
      "1544                 [Action, Adventure, Crime]  \n",
      "2315          [Romance, Comedy, Crime, Fantasy]  \n",
      "2020                          [Romance, Comedy]  \n",
      "1819  [Thriller, Action, Drama, Music, Romance]  \n"
     ]
    },
    {
     "name": "stderr",
     "output_type": "stream",
     "text": [
      "D:\\Anaconda\\Lib\\site-packages\\sklearn\\base.py:493: UserWarning: X does not have valid feature names, but LinearRegression was fitted with feature names\n",
      "  warnings.warn(\n"
     ]
    }
   ],
   "source": [
    "print(recommend_movies(\"Rain Man\"))"
   ]
  },
  {
   "cell_type": "code",
   "execution_count": null,
   "id": "b7d1903d-3821-4618-920e-aa3d439fb05c",
   "metadata": {},
   "outputs": [],
   "source": []
  },
  {
   "cell_type": "code",
   "execution_count": null,
   "id": "afacffa2-5b73-47dd-85d8-e5fed1b5fadb",
   "metadata": {},
   "outputs": [],
   "source": []
  }
 ],
 "metadata": {
  "kernelspec": {
   "display_name": "Python 3 (ipykernel)",
   "language": "python",
   "name": "python3"
  },
  "language_info": {
   "codemirror_mode": {
    "name": "ipython",
    "version": 3
   },
   "file_extension": ".py",
   "mimetype": "text/x-python",
   "name": "python",
   "nbconvert_exporter": "python",
   "pygments_lexer": "ipython3",
   "version": "3.12.7"
  }
 },
 "nbformat": 4,
 "nbformat_minor": 5
}
